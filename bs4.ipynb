{
 "cells": [
  {
   "cell_type": "code",
   "execution_count": 1,
   "metadata": {},
   "outputs": [
    {
     "name": "stderr",
     "output_type": "stream",
     "text": [
      "/usr/lib/python3/dist-packages/requests/__init__.py:80: RequestsDependencyWarning: urllib3 (1.24) or chardet (3.0.4) doesn't match a supported version!\n",
      "  RequestsDependencyWarning)\n"
     ]
    }
   ],
   "source": [
    "import bs4\n",
    "from bs4 import BeautifulSoup\n",
    "import requests\n",
    "\n",
    "link = 'https://www.climatempo.com.br/climatologia/2/santos-sp'\n",
    "\n",
    "page = requests.get(link)\n",
    "\n",
    "soup = BeautifulSoup(page.text, 'html.parser')"
   ]
  },
  {
   "cell_type": "code",
   "execution_count": 2,
   "metadata": {},
   "outputs": [],
   "source": [
    "dicio={}\n",
    "for i in soup.find('tbody'):\n",
    "    try:\n",
    "        \n",
    "        #print(i.find('td',{'class':\"text-center normal font14 txt-blue\"}).string)\n",
    "        key = i.find('td',{'class':\"text-center normal font14 txt-blue\"}).string\n",
    "        dicio[key]=[]\n",
    "        \n",
    "        #print(i.find_all('td',{'class':\"text-center normal font14 txt-black\"}))\n",
    "        for j in i.find_all('td',{'class':\"text-center normal font14 txt-black\"}):\n",
    "            #print(j.string)\n",
    "            value = j.string\n",
    "            dicio[key].append(value)\n",
    "        #print(i.find('td',{'class':\"text-center normal font14 txt-black\"}))\n",
    "        #print(i.find('td',{'class':\"text-center normal font14 txt-black\"}))\n",
    "    except:\n",
    "        pass\n"
   ]
  },
  {
   "cell_type": "code",
   "execution_count": 3,
   "metadata": {},
   "outputs": [],
   "source": [
    "dicio2 = {}\n",
    "for key, value in dicio.items():\n",
    "    dicio2[key]={'min':value[0],'max':value[1], 'pres':value[2]}"
   ]
  },
  {
   "cell_type": "code",
   "execution_count": 4,
   "metadata": {},
   "outputs": [
    {
     "data": {
      "text/plain": [
       "{'Janeiro': {'min': '23°', 'max': '29°', 'pres': '273'},\n",
       " 'Fevereiro': {'min': '23°', 'max': '28°', 'pres': '243'},\n",
       " 'Março': {'min': '23°', 'max': '28°', 'pres': '296'},\n",
       " 'Abril': {'min': '22°', 'max': '28°', 'pres': '230'},\n",
       " 'Maio': {'min': '21°', 'max': '29°', 'pres': '154'},\n",
       " 'Junho': {'min': '20°', 'max': '30°', 'pres': '59'},\n",
       " 'Julho': {'min': '20°', 'max': '31°', 'pres': '51'},\n",
       " 'Agosto': {'min': '22°', 'max': '33°', 'pres': '53'},\n",
       " 'Setembro': {'min': '23°', 'max': '33°', 'pres': '94'},\n",
       " 'Outubro': {'min': '23°', 'max': '32°', 'pres': '178'},\n",
       " 'Novembro': {'min': '23°', 'max': '30°', 'pres': '231'},\n",
       " 'Dezembro': {'min': '23°', 'max': '29°', 'pres': '271'}}"
      ]
     },
     "execution_count": 4,
     "metadata": {},
     "output_type": "execute_result"
    }
   ],
   "source": [
    "dicio2"
   ]
  },
  {
   "cell_type": "code",
   "execution_count": 5,
   "metadata": {},
   "outputs": [
    {
     "data": {
      "text/plain": [
       "['Feijó', 'AC']"
      ]
     },
     "execution_count": 5,
     "metadata": {},
     "output_type": "execute_result"
    }
   ],
   "source": [
    "l = soup.title.string.split(' - ')\n",
    "del l[0]\n",
    "l"
   ]
  },
  {
   "cell_type": "code",
   "execution_count": 6,
   "metadata": {},
   "outputs": [],
   "source": [
    "lista = []"
   ]
  },
  {
   "cell_type": "code",
   "execution_count": 7,
   "metadata": {},
   "outputs": [],
   "source": [
    "lista.append([{'cidade':l[0],'estado':l[1]}, dicio2])"
   ]
  },
  {
   "cell_type": "code",
   "execution_count": 8,
   "metadata": {},
   "outputs": [
    {
     "data": {
      "text/plain": [
       "[[{'cidade': 'Feijó', 'estado': 'AC'},\n",
       "  {'Janeiro': {'min': '23°', 'max': '29°', 'pres': '273'},\n",
       "   'Fevereiro': {'min': '23°', 'max': '28°', 'pres': '243'},\n",
       "   'Março': {'min': '23°', 'max': '28°', 'pres': '296'},\n",
       "   'Abril': {'min': '22°', 'max': '28°', 'pres': '230'},\n",
       "   'Maio': {'min': '21°', 'max': '29°', 'pres': '154'},\n",
       "   'Junho': {'min': '20°', 'max': '30°', 'pres': '59'},\n",
       "   'Julho': {'min': '20°', 'max': '31°', 'pres': '51'},\n",
       "   'Agosto': {'min': '22°', 'max': '33°', 'pres': '53'},\n",
       "   'Setembro': {'min': '23°', 'max': '33°', 'pres': '94'},\n",
       "   'Outubro': {'min': '23°', 'max': '32°', 'pres': '178'},\n",
       "   'Novembro': {'min': '23°', 'max': '30°', 'pres': '231'},\n",
       "   'Dezembro': {'min': '23°', 'max': '29°', 'pres': '271'}}]]"
      ]
     },
     "execution_count": 8,
     "metadata": {},
     "output_type": "execute_result"
    }
   ],
   "source": [
    "lista"
   ]
  }
 ],
 "metadata": {
  "kernelspec": {
   "display_name": "Python 3",
   "language": "python",
   "name": "python3"
  },
  "language_info": {
   "codemirror_mode": {
    "name": "ipython",
    "version": 3
   },
   "file_extension": ".py",
   "mimetype": "text/x-python",
   "name": "python",
   "nbconvert_exporter": "python",
   "pygments_lexer": "ipython3",
   "version": "3.6.5"
  }
 },
 "nbformat": 4,
 "nbformat_minor": 2
}
